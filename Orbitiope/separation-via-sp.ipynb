{
 "cells": [
  {
   "cell_type": "code",
   "execution_count": 1,
   "metadata": {},
   "outputs": [
    {
     "data": {
      "image/png": "[encoded data removed]",
      "text/plain": [
       "<Figure size 432x288 with 1 Axes>"
      ]
     },
     "metadata": {},
     "output_type": "display_data"
    }
   ],
   "source": [
    "from orbitope import create_orbitope_graph\n",
    "\n",
    "ordering = [4,5,2,3,1,0]\n",
    "k = 3\n",
    "\n",
    "OG = create_orbitope_graph(ordering,k)"
   ]
  },
  {
   "cell_type": "code",
   "execution_count": 2,
   "metadata": {},
   "outputs": [],
   "source": [
    "xval_lol = [\n",
    "    [0.5,0.25,0.25],\n",
    "    [0.5,0.25,0.25],\n",
    "    [0.5,0.25,0.25],\n",
    "    [0.5,0.25,0.25],\n",
    "    [1.0,0.0,0.0],\n",
    "    [1.0,0.0,0.0]\n",
    "]"
   ]
  },
  {
   "cell_type": "code",
   "execution_count": 3,
   "metadata": {},
   "outputs": [],
   "source": [
    "n = len(ordering)\n",
    "xval = { (i,j) : xval_lol[i][j] for i in range(n) for j in range(k)}"
   ]
  },
  {
   "cell_type": "code",
   "execution_count": 4,
   "metadata": {},
   "outputs": [
    {
     "data": {
      "text/plain": [
       "1.0"
      ]
     },
     "execution_count": 4,
     "metadata": {},
     "output_type": "execute_result"
    }
   ],
   "source": [
    "xval[4,0]"
   ]
  },
  {
   "cell_type": "code",
   "execution_count": 5,
   "metadata": {},
   "outputs": [
    {
     "data": {
      "text/plain": [
       "0.5"
      ]
     },
     "execution_count": 5,
     "metadata": {},
     "output_type": "execute_result"
    }
   ],
   "source": [
    "xval[3,0]"
   ]
  },
  {
   "cell_type": "code",
   "execution_count": 6,
   "metadata": {},
   "outputs": [
    {
     "name": "stdout",
     "output_type": "stream",
     "text": [
      "{(0, 0): 0.5, (0, 1): 0.25, (0, 2): 0.25, (1, 0): 0.5, (1, 1): 0.25, (1, 2): 0.25, (2, 0): 0.5, (2, 1): 0.25, (2, 2): 0.25, (3, 0): 0.5, (3, 1): 0.25, (3, 2): 0.25, (4, 0): 1.0, (4, 1): 0.0, (4, 2): 0.0, (5, 0): 1.0, (5, 1): 0.0, (5, 2): 0.0}\n"
     ]
    }
   ],
   "source": [
    "xbar = xval.copy()\n",
    "print(xbar)"
   ]
  },
  {
   "cell_type": "code",
   "execution_count": 7,
   "metadata": {},
   "outputs": [
    {
     "name": "stdout",
     "output_type": "stream",
     "text": [
      "2\n",
      "1\n",
      "0\n"
     ]
    }
   ],
   "source": [
    "for j in range(k-1,-1,-1):\n",
    "    print(j)"
   ]
  },
  {
   "cell_type": "code",
   "execution_count": 8,
   "metadata": {},
   "outputs": [
    {
     "name": "stdout",
     "output_type": "stream",
     "text": [
      "{(0, 0): 1.0, (0, 1): 0.5, (0, 2): 0.25, (1, 0): 1.0, (1, 1): 0.5, (1, 2): 0.25, (2, 0): 1.0, (2, 1): 0.5, (2, 2): 0.25, (3, 0): 1.0, (3, 1): 0.5, (3, 2): 0.25, (4, 0): 1.0, (4, 1): 0.0, (4, 2): 0.0, (5, 0): 1.0, (5, 1): 0.0, (5, 2): 0.0}\n"
     ]
    }
   ],
   "source": [
    "xbar = xval.copy()\n",
    "\n",
    "for j in range(k-2,-1,-1):\n",
    "    for i in range(n):\n",
    "        xbar[i,j] += xbar[i,j+1]\n",
    "\n",
    "print(xbar)"
   ]
  },
  {
   "cell_type": "code",
   "execution_count": 9,
   "metadata": {},
   "outputs": [
    {
     "name": "stdout",
     "output_type": "stream",
     "text": [
      "distance from (4, 0) to (i,j) = (4, 0) is 0\n",
      "distance from (4, 0) to (i,j) = (5, 0) is 1\n",
      "distance from (4, 0) to (i,j) = (5, 1) is 1\n",
      "distance from (4, 0) to (i,j) = (2, 0) is 2\n",
      "distance from (4, 0) to (i,j) = (2, 1) is 2\n",
      "distance from (4, 0) to (i,j) = (2, 2) is 2\n",
      "distance from (4, 0) to (i,j) = (3, 0) is 3\n",
      "distance from (4, 0) to (i,j) = (3, 1) is 3\n",
      "distance from (4, 0) to (i,j) = (3, 2) is 3\n",
      "distance from (4, 0) to (i,j) = (1, 0) is 4\n",
      "distance from (4, 0) to (i,j) = (1, 1) is 4\n",
      "distance from (4, 0) to (i,j) = (1, 2) is 4\n",
      "distance from (4, 0) to (i,j) = (0, 0) is 5\n",
      "distance from (4, 0) to (i,j) = (0, 1) is 5\n",
      "distance from (4, 0) to (i,j) = (0, 2) is 5\n",
      "distance from (5, 1) to (i,j) = (5, 1) is 0\n",
      "distance from (5, 1) to (i,j) = (2, 1) is 1\n",
      "distance from (5, 1) to (i,j) = (2, 2) is 1\n",
      "distance from (5, 1) to (i,j) = (3, 1) is 2\n",
      "distance from (5, 1) to (i,j) = (3, 2) is 2\n",
      "distance from (5, 1) to (i,j) = (1, 1) is 3\n",
      "distance from (5, 1) to (i,j) = (1, 2) is 3\n",
      "distance from (5, 1) to (i,j) = (0, 1) is 4\n",
      "distance from (5, 1) to (i,j) = (0, 2) is 4\n",
      "distance from (2, 2) to (i,j) = (2, 2) is 0\n",
      "distance from (2, 2) to (i,j) = (3, 2) is 1\n",
      "distance from (2, 2) to (i,j) = (1, 2) is 2\n",
      "distance from (2, 2) to (i,j) = (0, 2) is 3\n"
     ]
    }
   ],
   "source": [
    "import networkx as nx\n",
    "\n",
    "for i,j in OG.edges:\n",
    "    OG.edges[i,j]['edge_weight'] = 1\n",
    "\n",
    "for p in range(k):\n",
    "    \n",
    "    v = ordering[p]\n",
    "    \n",
    "    path_start = (v,p)\n",
    "    (distance,path) = nx.single_source_dijkstra(OG,weight='edge_weight',source=path_start)\n",
    "    \n",
    "    for node in distance.keys():\n",
    "        \n",
    "        if node == 't':\n",
    "            continue\n",
    "            \n",
    "        (i,j) = node\n",
    "        \n",
    "        print(\"distance from\",path_start,\"to (i,j) =\",node,\"is\",distance[node])\n",
    "    "
   ]
  },
  {
   "cell_type": "code",
   "execution_count": 10,
   "metadata": {},
   "outputs": [],
   "source": [
    "for i,j in OG.edges:\n",
    "    OG.edges[i,j]['edge_weight'] = 0\n",
    "\n",
    "for p in range(1,n):\n",
    "\n",
    "    i = ordering[p]\n",
    "    pi = ordering[p-1]\n",
    "    \n",
    "    for j in range(k):\n",
    "        node = (i,j)\n",
    "        pnode = (pi,j)\n",
    "        OG.edges[pnode,node]['edge_weight'] = xval[i,j]\n",
    "        "
   ]
  },
  {
   "cell_type": "code",
   "execution_count": 11,
   "metadata": {},
   "outputs": [],
   "source": [
    "def construct_position(ordering):\n",
    "    position = [-1 for i in range(len(ordering))]\n",
    "    for p in range(len(ordering)):\n",
    "        v = ordering[p]\n",
    "        position[v] = p\n",
    "    return position"
   ]
  },
  {
   "cell_type": "code",
   "execution_count": 12,
   "metadata": {},
   "outputs": [
    {
     "name": "stdout",
     "output_type": "stream",
     "text": [
      "distance from (5, 1) to (i,j) = (5, 1) is 0\n",
      "distance from (5, 1) to (i,j) = (5, 1) plus x[path_start] is 0.0\n",
      "my_path [(5, 1)]\n",
      "S_weight = 0.0\n",
      "Found inequality with violation 0.25\n",
      "It has bar leader ( 2 , 2 ) and S= [(5, 1)]\n"
     ]
    }
   ],
   "source": [
    "position = construct_position(ordering)\n",
    "\n",
    "for p in range(k):\n",
    "    \n",
    "    v = ordering[p]\n",
    "    \n",
    "    path_start = (v,p)\n",
    "    (distance,path) = nx.single_source_dijkstra(OG,weight='edge_weight',source=path_start)\n",
    "    \n",
    "    for node in distance.keys():\n",
    "        \n",
    "        if node == 't':\n",
    "            continue\n",
    "            \n",
    "        (i,j) = node\n",
    "        \n",
    "        #print(\"distance from\",path_start,\"to (i,j) =\",node,\"is\",distance[node])\n",
    "        \n",
    "        #print(\"distance from\",path_start,\"to (i,j) =\",node,\"plus x[path_start] is\",distance[node]+xval[path_start])\n",
    "        \n",
    "        my_path = path[node]\n",
    "        #print(\"my_path\",my_path)\n",
    "        \n",
    "        S = list()\n",
    "        \n",
    "        for pos in range(len(my_path)):\n",
    "            \n",
    "            path_node = my_path[pos]\n",
    "            (path_node_i, path_node_j) = path_node\n",
    "            \n",
    "            if path_node == path_start:\n",
    "                S.append(path_node)\n",
    "            else:\n",
    "                prev_path_node = my_path[pos-1]\n",
    "                \n",
    "                (prev_i,prev_j) = prev_path_node\n",
    "                \n",
    "                if path_node_j == prev_j:\n",
    "                    S.append(path_node)\n",
    "                \n",
    "        #print(\"S =\",S)\n",
    "        \n",
    "        S_weight = sum( xval[myi,myj] for (myi,myj) in S )\n",
    "        #print(\"S_weight =\",S_weight)\n",
    "        \n",
    "        pos_i = position[i]\n",
    "        \n",
    "        if pos_i < n-1 and j < k-1:\n",
    "            \n",
    "            next_i = ordering[pos_i+1]\n",
    "            \n",
    "            if xbar[next_i,j+1] > S_weight:\n",
    "                print(\"distance from\",path_start,\"to (i,j) =\",node,\"is\",distance[node])\n",
    "        \n",
    "                print(\"distance from\",path_start,\"to (i,j) =\",node,\"plus x[path_start] is\",distance[node]+xval[path_start])\n",
    "                \n",
    "                print(\"my_path\",my_path)\n",
    "                print(\"S_weight =\",S_weight)\n",
    "                \n",
    "                print(\"Found inequality with violation\",xbar[next_i,j+1]-S_weight)\n",
    "                print(\"It has bar leader (\",next_i,\",\",j+1,\") and S=\",S)\n",
    "                "
   ]
  },
  {
   "cell_type": "code",
   "execution_count": null,
   "metadata": {},
   "outputs": [],
   "source": []
  }
 ],
 "metadata": {
  "kernelspec": {
   "display_name": "Python 3",
   "language": "python",
   "name": "python3"
  },
  "language_info": {
   "codemirror_mode": {
    "name": "ipython",
    "version": 3
   },
   "file_extension": ".py",
   "mimetype": "text/x-python",
   "name": "python",
   "nbconvert_exporter": "python",
   "pygments_lexer": "ipython3",
   "version": "3.7.10"
  }
 },
 "nbformat": 4,
 "nbformat_minor": 4
}
